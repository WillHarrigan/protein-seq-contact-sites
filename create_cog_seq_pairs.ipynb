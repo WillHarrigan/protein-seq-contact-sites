{
 "cells": [
  {
   "cell_type": "code",
   "execution_count": 1,
   "id": "2ae5881c",
   "metadata": {},
   "outputs": [],
   "source": [
    "import random\n",
    "cogs_to_seqs = {}\n",
    "pairs = set()"
   ]
  },
  {
   "cell_type": "code",
   "execution_count": 2,
   "id": "5f01bcfc",
   "metadata": {},
   "outputs": [],
   "source": [
    "i = 0\n",
    "\n",
    "for line in open('/Users/williamharrigan/Downloads/cog-20.cog.csv'):\n",
    "    data = line.split(\",\")\n",
    "    if not data[7] in cogs_to_seqs: \n",
    "        cogs_to_seqs[data[7]] = set([data[2]])\n",
    "    else:\n",
    "        cogs_to_seqs[data[7]].add(data[2])\n",
    "\n",
    "    i += 1\n",
    "    if i==200000000:\n",
    "        break"
   ]
  },
  {
   "cell_type": "code",
   "execution_count": 3,
   "id": "d449dd11",
   "metadata": {},
   "outputs": [],
   "source": [
    "cogs_list = list(cogs_to_seqs.keys())"
   ]
  },
  {
   "cell_type": "code",
   "execution_count": 4,
   "id": "9c19f27e",
   "metadata": {},
   "outputs": [],
   "source": [
    "selected_cogs =  set()\n",
    "\n",
    "while len(selected_cogs) != 500000:\n",
    "    rand_cogs = [random.choice(cogs_list) for _ in range(2)]\n",
    "    selection = tuple(sorted([random.choice(rand_cogs)  for rand_cog in rand_cogs]))\n",
    "    if selection[0] != selection[1]:\n",
    "        selected_cogs.add(selection)"
   ]
  },
  {
   "cell_type": "code",
   "execution_count": 5,
   "id": "f57d8b3f",
   "metadata": {},
   "outputs": [],
   "source": [
    "for i in selected_cogs:\n",
    "    seq_pairs = []\n",
    "    seq1 = random.choice(tuple(cogs_to_seqs[i[0]]))\n",
    "    seq2 = random.choice(tuple(cogs_to_seqs[i[1]]))\n",
    "    seq_pairs.append(i[0])\n",
    "    seq_pairs.append(seq1)\n",
    "    seq_pairs.append(i[1])\n",
    "    seq_pairs.append(seq2)\n",
    "    pairs.add(tuple(seq_pairs))\n",
    "    "
   ]
  },
  {
   "cell_type": "code",
   "execution_count": 16,
   "id": "8f981527",
   "metadata": {
    "scrolled": true
   },
   "outputs": [
    {
     "data": {
      "text/plain": [
       "500000"
      ]
     },
     "execution_count": 16,
     "metadata": {},
     "output_type": "execute_result"
    }
   ],
   "source": [
    "len(pairs)"
   ]
  },
  {
   "cell_type": "code",
   "execution_count": 17,
   "id": "b81ea135",
   "metadata": {},
   "outputs": [],
   "source": [
    "#list(pairs)[0:100]"
   ]
  },
  {
   "cell_type": "code",
   "execution_count": 42,
   "id": "3b5b01b0",
   "metadata": {},
   "outputs": [],
   "source": [
    "with open(\"random_cog_seq_pairs.txt\", \"w\") as f:\n",
    "    a = list(pairs)\n",
    "    for i in str(a):\n",
    "        f.write(i)\n",
    "\n"
   ]
  }
 ],
 "metadata": {
  "kernelspec": {
   "display_name": "Python 3 (ipykernel)",
   "language": "python",
   "name": "python3"
  },
  "language_info": {
   "codemirror_mode": {
    "name": "ipython",
    "version": 3
   },
   "file_extension": ".py",
   "mimetype": "text/x-python",
   "name": "python",
   "nbconvert_exporter": "python",
   "pygments_lexer": "ipython3",
   "version": "3.9.12"
  }
 },
 "nbformat": 4,
 "nbformat_minor": 5
}
