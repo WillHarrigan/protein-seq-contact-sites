{
 "cells": [
  {
   "cell_type": "code",
   "execution_count": null,
   "id": "b43c2c86",
   "metadata": {},
   "outputs": [],
   "source": [
    "from Bio import Entrez\n",
    "from Bio import SeqIO"
   ]
  },
  {
   "cell_type": "code",
   "execution_count": null,
   "id": "07866f93",
   "metadata": {},
   "outputs": [],
   "source": [
    "function = {}"
   ]
  },
  {
   "cell_type": "code",
   "execution_count": null,
   "id": "a3adf1eb",
   "metadata": {},
   "outputs": [],
   "source": [
    "for line in open('/Users/williamharrigan/Desktop/Github/protein-seq-contact-sites/VOGS/tsv/vog.annotations.tsv'):\n",
    "    data = line.split(\"\\t\")\n",
    "    if not data[0] in function: \n",
    "        function[data[0]] = data[3]\n",
    "    else:\n",
    "        function[data[0]].add(data[3])    \n",
    "data   "
   ]
  },
  {
   "cell_type": "code",
   "execution_count": null,
   "id": "0f680ad4",
   "metadata": {},
   "outputs": [],
   "source": [
    "#value = '1269028.AGC01594.1'\n",
    "\n",
    "def locate_vog(value):\n",
    "    for k, v in vog_members.items():\n",
    "        if value in v:\n",
    "            return k\n",
    "            \n",
    "            \n",
    "        "
   ]
  },
  {
   "cell_type": "code",
   "execution_count": null,
   "id": "49971cb1",
   "metadata": {},
   "outputs": [],
   "source": [
    "def vog_function(vogPair):\n",
    "    for k,v in function.items():\n",
    "        if vogPair in k:\n",
    "            return v\n",
    "        #if i in function:\n",
    "         #   if \"Xs\" in (function[i]):\n",
    "          #      xs_vogs.append(i)\n",
    "    "
   ]
  },
  {
   "cell_type": "code",
   "execution_count": null,
   "id": "ef4cd38b",
   "metadata": {},
   "outputs": [],
   "source": [
    "def lineage(seqid):\n",
    "    handle = Entrez.efetch(db=\"protein\", id=seqid, rettype=\"gb\")\n",
    "    record = SeqIO.read(handle, \"genbank\")\n",
    "    taxonomy = record.annotations[\"taxonomy\"]\n",
    "    return (taxonomy[1])"
   ]
  },
  {
   "cell_type": "code",
   "execution_count": null,
   "id": "74995353",
   "metadata": {},
   "outputs": [],
   "source": [
    "seq = ['605',\n",
    " '592.7500000000057',\n",
    " 'YP_009810043.1',\n",
    " 'YP_009810600.1',\n",
    " '719',\n",
    " '722\\n']\n",
    "\n",
    "lineage(seq[3])"
   ]
  },
  {
   "cell_type": "code",
   "execution_count": null,
   "id": "e2527d02",
   "metadata": {},
   "outputs": [],
   "source": []
  },
  {
   "cell_type": "code",
   "execution_count": null,
   "id": "83a128bf",
   "metadata": {},
   "outputs": [],
   "source": [
    "count = 0\n",
    "vog_comp = set()\n",
    "\n",
    "for line in open('/Users/williamharrigan/Desktop/Github/protein-seq-contact-sites/VOGS/tsv/same_vog_scores.tsv'):\n",
    "    data = list(line.split(\"\\t\"))\n",
    "    if (len(data)) == 6:\n",
    "        count+=1\n",
    "        seq_pairs = []\n",
    "        seq_pairs.append(data[2])\n",
    "        seq_pairs.append(lineage(data[2]))\n",
    "        seq_pairs.append(data[3])\n",
    "        seq_pairs.append(lineage(data[3]))\n",
    "        av_score = ((int(data[0]))+(float(data[1])))/2\n",
    "        seq_pairs.append(av_score)\n",
    "        av_length = ((int(data[4]))+(int(data[5])))/2\n",
    "        seq_pairs.append(av_length)\n",
    "        vog_comp.add(tuple(seq_pairs))\n",
    "        \n",
    "        \n",
    "data"
   ]
  },
  {
   "cell_type": "code",
   "execution_count": null,
   "id": "8037e969",
   "metadata": {},
   "outputs": [],
   "source": [
    "vog_comp"
   ]
  },
  {
   "cell_type": "code",
   "execution_count": null,
   "id": "7fab0aa1",
   "metadata": {
    "scrolled": true
   },
   "outputs": [],
   "source": [
    "#occasionally items cannot be located from dictionary\n",
    "vog_members = {}\n",
    "\n",
    "for line in open('/Users/williamharrigan/Desktop/Github/protein-seq-contact-sites/VOGS/tsv/vog.members.tsv'):\n",
    "    data = line.split(\"\\t\")\n",
    "    if not data[0] in vog_members: \n",
    "        vog_members[data[0]]=[data[4]]\n",
    "    else:\n",
    "        vog_members[data[0]]=(data[4])\n",
    "        \n",
    "data"
   ]
  },
  {
   "cell_type": "code",
   "execution_count": null,
   "id": "6f2c3f32",
   "metadata": {
    "scrolled": false
   },
   "outputs": [],
   "source": [
    "#vog_members"
   ]
  },
  {
   "cell_type": "code",
   "execution_count": null,
   "id": "ee80fee1",
   "metadata": {},
   "outputs": [],
   "source": [
    "#must run vog members code directly before\n",
    "count = 0\n",
    "located_vog = set()\n",
    "\n",
    "for i in vog_comp:\n",
    "    count+=1\n",
    "    pair = []\n",
    "    pair.append(locate_vog(str(i[0])))\n",
    "    pair.append(locate_vog(str(i[1])))\n",
    "    pair.append(float(i[2]))\n",
    "    pair.append(float(i[3]))\n",
    "    pair.append(float(i[2])/float(i[3]))\n",
    "    pair.append(vog_function((pair[0])))\n",
    "    located_vog.add(tuple(pair))\n",
    "    if count==5000:\n",
    "        break"
   ]
  },
  {
   "cell_type": "code",
   "execution_count": null,
   "id": "2b584324",
   "metadata": {
    "scrolled": true
   },
   "outputs": [],
   "source": [
    "located_vog"
   ]
  },
  {
   "cell_type": "code",
   "execution_count": null,
   "id": "93004286",
   "metadata": {},
   "outputs": [],
   "source": [
    "import matplotlib.pyplot as plt\n",
    "import numpy as n , pandas as pd\n",
    "\n",
    "#print(n.array(xs_seqs))\n",
    "#print(p.DataFrame(xs_seqs))\n",
    "colnames = [\"VOG1\",\"VOG2\",\"Score\",\"Length\",\"Relative Score\",\"Function\"]\n",
    "df = pd.DataFrame(located_vog,columns=colnames)\n",
    "df = df.replace('\\n','', regex=True)\n"
   ]
  },
  {
   "cell_type": "code",
   "execution_count": null,
   "id": "236b1200",
   "metadata": {},
   "outputs": [],
   "source": [
    "df.head()"
   ]
  },
  {
   "cell_type": "code",
   "execution_count": null,
   "id": "1e56a828",
   "metadata": {},
   "outputs": [],
   "source": [
    "df.shape"
   ]
  },
  {
   "cell_type": "code",
   "execution_count": null,
   "id": "b98fa8a3",
   "metadata": {
    "scrolled": true
   },
   "outputs": [],
   "source": [
    "df.describe()"
   ]
  },
  {
   "cell_type": "code",
   "execution_count": null,
   "id": "c54fb244",
   "metadata": {
    "scrolled": false
   },
   "outputs": [],
   "source": [
    "df.value_counts()"
   ]
  },
  {
   "cell_type": "code",
   "execution_count": null,
   "id": "1c3553f5",
   "metadata": {
    "scrolled": true
   },
   "outputs": [],
   "source": [
    "#boxplot describing how function relates to score\n",
    "\n",
    "import seaborn as sns\n",
    "\n",
    "sns.set_style('ticks')\n",
    "fig, ax = plt.subplots()\n",
    "fig.set_size_inches(14, 10)\n",
    "sns.boxplot(y = \"Score\", x = \"Function\", data = df)    \n",
    "ax.set(xlabel=\"Function\",ylabel=\"Contact Similarity Score\")\n",
    "sns.despine()"
   ]
  },
  {
   "cell_type": "code",
   "execution_count": null,
   "id": "7e44b9dc",
   "metadata": {
    "scrolled": false
   },
   "outputs": [],
   "source": [
    "#boxplot describing how function/seq length relates to function\n",
    "\n",
    "import seaborn as sns\n",
    "\n",
    "sns.set_style('ticks')\n",
    "fig, ax = plt.subplots()\n",
    "fig.set_size_inches(14, 10)\n",
    "sns.boxplot(y = \"Length\", x = \"Function\", data = df) \n",
    "ax.set(xlabel=\"Function\",ylabel=\"Sequence Length\")\n",
    "sns.despine()"
   ]
  },
  {
   "cell_type": "code",
   "execution_count": null,
   "id": "2ca7a1f0",
   "metadata": {
    "scrolled": true
   },
   "outputs": [],
   "source": [
    "#boxplot describing how sequence length relates to function\n",
    "\n",
    "sns.set_style('ticks')\n",
    "fig, ax = plt.subplots()\n",
    "fig.set_size_inches(14, 10)\n",
    "sns.boxplot(y = \"Relative Score\", x = \"Function\", data = df)\n",
    "ax.set(xlabel=\"Function\",ylabel=\"Contact Similarity Score Relative to Sequence Length\")\n",
    "sns.despine()"
   ]
  },
  {
   "cell_type": "code",
   "execution_count": null,
   "id": "2e7de866",
   "metadata": {},
   "outputs": [],
   "source": [
    "import matplotlib.pyplot as plt\n",
    "import pandas as pd\n",
    "import seaborn as sns\n",
    "\n",
    "# A few helper functions:\n",
    "from utils import *\n",
    "\n",
    "# To illustrate examples\n",
    "import numpy as np\n",
    "from scipy.stats import mannwhitneyu, normaltest"
   ]
  },
  {
   "cell_type": "code",
   "execution_count": null,
   "id": "9d2dcca5",
   "metadata": {},
   "outputs": [],
   "source": [
    "funs = list(df[\"Function\"].unique())"
   ]
  },
  {
   "cell_type": "code",
   "execution_count": null,
   "id": "47e5bbd7",
   "metadata": {},
   "outputs": [],
   "source": [
    "funs"
   ]
  },
  {
   "cell_type": "code",
   "execution_count": null,
   "id": "d6cbf327",
   "metadata": {},
   "outputs": [],
   "source": [
    "Xs = df.loc[(df[\"Function\"]==\"Xs\"),\"Relative Score\"].values\n",
    "Xu = df.loc[(df[\"Function\"]==\"Xu\"),\"Relative Score\"].values\n",
    "XhXpXrXs = df.loc[(df[\"Function\"]==\"XhXpXrXs\"),\"Relative Score\"].values\n",
    "XhXs = df.loc[(df[\"Function\"]==\"XhXs\"),\"Relative Score\"].values\n",
    "XhXr = df.loc[(df[\"Function\"]==\"XhXr\"),\"Relative Score\"].values\n",
    "XhXp = df.loc[(df[\"Function\"]==\"XhXp\"),\"Relative Score\"].values\n",
    "Xp = df.loc[(df[\"Function\"]==\"Xp\"),\"Relative Score\"].values\n",
    "Xr = df.loc[(df[\"Function\"]==\"Xr\"),\"Relative Score\"].values\n",
    "Xh = df.loc[(df[\"Function\"]==\"Xh\"),\"Relative Score\"].values"
   ]
  },
  {
   "cell_type": "code",
   "execution_count": null,
   "id": "f0d90eff",
   "metadata": {},
   "outputs": [],
   "source": [
    "stat_results = [mannwhitneyu(Xs, Xu, alternative=\"two-sided\"),\n",
    "                mannwhitneyu(Xs, XhXpXrXs, alternative=\"two-sided\"),\n",
    "                mannwhitneyu(Xp, Xh, alternative=\"two-sided\"),\n",
    "                mannwhitneyu(Xs, Xr, alternative=\"two-sided\")]"
   ]
  },
  {
   "cell_type": "code",
   "execution_count": null,
   "id": "de8192b1",
   "metadata": {},
   "outputs": [],
   "source": [
    "stat_results"
   ]
  },
  {
   "cell_type": "code",
   "execution_count": null,
   "id": "bde861fe",
   "metadata": {},
   "outputs": [],
   "source": [
    "con_df = df.replace({'Function' : { \"XhXpXrXs\" : \"XrXs\", \"XhXs\" : \"Xs\",\"XhXrXs\":\"XrXs\",\n",
    "                                  \"XhXpXr\" : \"Xr\",\"XhXpXs\" : \"Xs\",\"XpXs\" : \"Xs\",\"XpXrXs\" : \"XrXs\"}})"
   ]
  },
  {
   "cell_type": "code",
   "execution_count": null,
   "id": "ac88f01b",
   "metadata": {},
   "outputs": [],
   "source": [
    "con_df2 = con_df.loc[(con_df[\"Function\"]==\"Xr\") | (con_df[\"Function\"]==\"Xs\")|(con_df[\"Function\"]==\"XrXs\")]\n",
    "#con_df2 = con_df2.loc[con_df2[\"Function\"]==\"Xs\"]\n",
    "#con_df2 = con_df2.loc[con_df2[\"Function\"]==\"XrXr\"]"
   ]
  },
  {
   "cell_type": "code",
   "execution_count": null,
   "id": "18ceb7d8",
   "metadata": {},
   "outputs": [],
   "source": [
    "con_df2[\"Relative Score\"].mean()"
   ]
  },
  {
   "cell_type": "code",
   "execution_count": null,
   "id": "af012baa",
   "metadata": {},
   "outputs": [],
   "source": [
    "#boxplot describing how function relates to score\n",
    "\n",
    "import seaborn as sns\n",
    "\n",
    "sns.set_style('ticks')\n",
    "fig, ax = plt.subplots()\n",
    "fig.set_size_inches(14, 10)\n",
    "sns.boxplot(y = \"Score\", x = \"Function\", data = con_df2)    \n",
    "ax.set(xlabel=\"Function\",ylabel=\"Contact Similarity Score\")\n",
    "sns.despine()"
   ]
  },
  {
   "cell_type": "code",
   "execution_count": null,
   "id": "a0e480ef",
   "metadata": {
    "scrolled": true
   },
   "outputs": [],
   "source": [
    "#boxplot describing how function relates to score\n",
    "\n",
    "import seaborn as sns\n",
    "\n",
    "sns.set_style('ticks')\n",
    "fig, ax = plt.subplots()\n",
    "fig.set_size_inches(14, 10)\n",
    "sns.boxplot(y = \"Score\", x = \"Function\", data = con_df2)    \n",
    "ax.set(xlabel=\"Function\",ylabel=\"Contact Similarity Score\")\n",
    "sns.despine()"
   ]
  },
  {
   "cell_type": "code",
   "execution_count": null,
   "id": "8dc5fab2",
   "metadata": {},
   "outputs": [],
   "source": [
    "Xr2 = con_df2.loc[(con_df2[\"Function\"]==\"Xr\"),\"Relative Score\"].values\n",
    "Xs2 = con_df2.loc[(con_df2[\"Function\"]==\"Xs\"),\"Relative Score\"].values\n",
    "XrXs2 = con_df2.loc[(con_df2[\"Function\"]==\"XrXs\"),\"Relative Score\"].values"
   ]
  },
  {
   "cell_type": "code",
   "execution_count": null,
   "id": "3853cf6e",
   "metadata": {},
   "outputs": [],
   "source": [
    "stat_results = [mannwhitneyu(Xs2, XrXs2, alternative=\"two-sided\"),\n",
    "                mannwhitneyu(Xr2, XrXs2, alternative=\"two-sided\"),\n",
    "                mannwhitneyu(Xs2, Xr2, alternative=\"two-sided\")]"
   ]
  },
  {
   "cell_type": "code",
   "execution_count": null,
   "id": "b5fbc5e9",
   "metadata": {},
   "outputs": [],
   "source": [
    "stat_results"
   ]
  },
  {
   "cell_type": "code",
   "execution_count": null,
   "id": "dd237f3c",
   "metadata": {},
   "outputs": [],
   "source": [
    "xpxh_df2 = df.loc[(con_df[\"Function\"]==\"Xp\") | (con_df[\"Function\"]==\"Xh\")]\n"
   ]
  },
  {
   "cell_type": "code",
   "execution_count": null,
   "id": "0fb19f45",
   "metadata": {},
   "outputs": [],
   "source": [
    "import seaborn as sns\n",
    "\n",
    "sns.set_style('ticks')\n",
    "fig, ax = plt.subplots()\n",
    "fig.set_size_inches(14, 10)\n",
    "sns.boxplot(y = \"Relative Score\", x = \"Function\", data = xpxh_df2)    \n",
    "ax.set(xlabel=\"Function\",ylabel=\"Contact Similarity Score\")\n",
    "sns.despine()"
   ]
  },
  {
   "cell_type": "code",
   "execution_count": null,
   "id": "a9ef7b09",
   "metadata": {
    "scrolled": true
   },
   "outputs": [],
   "source": [
    "#import capsid tsv\n",
    "capsids = []\n",
    "\n",
    "for line in open('/Users/williamharrigan/Desktop/Github/protein-seq-contact-sites/VOGS/tsv/capsid.tsv'):\n",
    "    data = line.split(\"\\t\")\n",
    "    capsids.append(data[0])\n",
    "    \n"
   ]
  },
  {
   "cell_type": "code",
   "execution_count": null,
   "id": "f62d7591",
   "metadata": {},
   "outputs": [],
   "source": [
    "capsid_protein = set()"
   ]
  },
  {
   "cell_type": "code",
   "execution_count": null,
   "id": "b6a7e4b1",
   "metadata": {},
   "outputs": [],
   "source": [
    "def cap_prot(caps):\n",
    "    for i in located_vog:\n",
    "        if i[0]==caps or i[1]==caps:\n",
    "            capsid_protein.add(i)"
   ]
  },
  {
   "cell_type": "code",
   "execution_count": null,
   "id": "8524808e",
   "metadata": {
    "scrolled": true
   },
   "outputs": [],
   "source": [
    "for protein in capsids:\n",
    "    caps = protein\n",
    "    cap_prot(caps)"
   ]
  },
  {
   "cell_type": "code",
   "execution_count": null,
   "id": "3d649ce5",
   "metadata": {},
   "outputs": [],
   "source": [
    "colnames = [\"VOG1\",\"VOG2\",\"Score\",\"Length\",\"Relative Score\",\"Function\"]\n",
    "capsid_df = pd.DataFrame(capsid_protein,columns=colnames)\n",
    "capsid_df = capsid_df.replace('\\n','', regex=True)"
   ]
  },
  {
   "cell_type": "code",
   "execution_count": null,
   "id": "6aa743f6",
   "metadata": {},
   "outputs": [],
   "source": [
    "capsid_df"
   ]
  },
  {
   "cell_type": "code",
   "execution_count": null,
   "id": "8bf2d8c7",
   "metadata": {},
   "outputs": [],
   "source": [
    "#boxplot describing how function relates to score\n",
    "\n",
    "import seaborn as sns\n",
    "\n",
    "sns.set_style('ticks')\n",
    "fig, ax = plt.subplots()\n",
    "fig.set_size_inches(14, 10)\n",
    "sns.boxplot(y = \"Relative Score\", x = \"Function\", data = capsid_df)    \n",
    "ax.set(xlabel=\"Function\",ylabel=\"Contact Similarity Score\")\n",
    "sns.despine()"
   ]
  },
  {
   "cell_type": "code",
   "execution_count": null,
   "id": "5ca22e46",
   "metadata": {},
   "outputs": [],
   "source": [
    "capsid_df[\"Relative Score\"].mean()"
   ]
  },
  {
   "cell_type": "code",
   "execution_count": null,
   "id": "576bfa2e",
   "metadata": {},
   "outputs": [],
   "source": [
    "caps = capsid_df[\"Relative Score\"].values\n",
    "Xs2 = con_df2.loc[(con_df2[\"Function\"]==\"Xs\"),\"Relative Score\"].values"
   ]
  },
  {
   "cell_type": "code",
   "execution_count": null,
   "id": "52f97b5a",
   "metadata": {},
   "outputs": [],
   "source": [
    "stat_results = [mannwhitneyu(Xs2, caps, alternative=\"two-sided\")]"
   ]
  },
  {
   "cell_type": "code",
   "execution_count": null,
   "id": "4dbfd2cc",
   "metadata": {},
   "outputs": [],
   "source": [
    "stat_results"
   ]
  },
  {
   "cell_type": "code",
   "execution_count": null,
   "id": "49d9b8ec",
   "metadata": {
    "scrolled": true
   },
   "outputs": [],
   "source": [
    "#import capsid tsv\n",
    "nuclease = []\n",
    "\n",
    "for line in open('/Users/williamharrigan/Desktop/Github/protein-seq-contact-sites/VOGS/tsv/endonuclease.tsv'):\n",
    "    data = line.split(\"\\t\")\n",
    "    nuclease.append(data[0])\n",
    "    \n"
   ]
  },
  {
   "cell_type": "code",
   "execution_count": null,
   "id": "fce50ecb",
   "metadata": {},
   "outputs": [],
   "source": [
    "endonuclease = set()"
   ]
  },
  {
   "cell_type": "code",
   "execution_count": null,
   "id": "5f56986b",
   "metadata": {},
   "outputs": [],
   "source": [
    "def endo_prot(nucleases):\n",
    "    for i in located_vog:\n",
    "        if i[0]==nucleases or i[1]==nucleases:\n",
    "            endonuclease.add(i)"
   ]
  },
  {
   "cell_type": "code",
   "execution_count": null,
   "id": "7c3cd7b2",
   "metadata": {
    "scrolled": true
   },
   "outputs": [],
   "source": [
    "for protein in nuclease:\n",
    "    #print(protein)\n",
    "    nucleases = protein\n",
    "    endo_prot(nucleases)"
   ]
  },
  {
   "cell_type": "code",
   "execution_count": null,
   "id": "f29e2eaf",
   "metadata": {},
   "outputs": [],
   "source": [
    "colnames = [\"VOG1\",\"VOG2\",\"Score\",\"Length\",\"Relative Score\",\"Function\"]\n",
    "nuclease_df = pd.DataFrame(endonuclease,columns=colnames)\n",
    "nuclease_df = nuclease_df.replace('\\n','', regex=True)"
   ]
  },
  {
   "cell_type": "code",
   "execution_count": null,
   "id": "efdb37bd",
   "metadata": {},
   "outputs": [],
   "source": [
    "nuclease_df"
   ]
  },
  {
   "cell_type": "code",
   "execution_count": null,
   "id": "4f406c7d",
   "metadata": {},
   "outputs": [],
   "source": [
    "#boxplot describing how function relates to score\n",
    "\n",
    "import seaborn as sns\n",
    "\n",
    "sns.set_style('ticks')\n",
    "fig, ax = plt.subplots()\n",
    "fig.set_size_inches(14, 10)\n",
    "sns.boxplot(y = \"Relative Score\", x = \"Function\", data = capsid_df)    \n",
    "ax.set(xlabel=\"Function\",ylabel=\"Contact Similarity Score\")\n",
    "sns.despine()"
   ]
  },
  {
   "cell_type": "code",
   "execution_count": null,
   "id": "48994cac",
   "metadata": {},
   "outputs": [],
   "source": [
    "nuclease_df[\"Relative Score\"].mean()"
   ]
  },
  {
   "cell_type": "code",
   "execution_count": null,
   "id": "55f3c960",
   "metadata": {
    "scrolled": true
   },
   "outputs": [],
   "source": [
    "#import capsid tsv\n",
    "orf = []\n",
    "\n",
    "for line in open('/Users/williamharrigan/Desktop/Github/protein-seq-contact-sites/VOGS/tsv/orf.tsv'):\n",
    "    data = line.split(\"\\t\")\n",
    "    orf.append(data[0])\n",
    "    \n"
   ]
  },
  {
   "cell_type": "code",
   "execution_count": null,
   "id": "fd42a58e",
   "metadata": {},
   "outputs": [],
   "source": [
    "orf_protein = set()"
   ]
  },
  {
   "cell_type": "code",
   "execution_count": null,
   "id": "8718b6c4",
   "metadata": {},
   "outputs": [],
   "source": [
    "def orf_prot(orfs):\n",
    "    for i in located_vog:\n",
    "        if i[0]==orfs or i[1]==orfs:\n",
    "            orf_protein.add(i)"
   ]
  },
  {
   "cell_type": "code",
   "execution_count": null,
   "id": "67cf39df",
   "metadata": {
    "scrolled": true
   },
   "outputs": [],
   "source": [
    "for protein in orf:\n",
    "    orfs = protein\n",
    "    orf_prot(orfs)"
   ]
  },
  {
   "cell_type": "code",
   "execution_count": null,
   "id": "f0a78eec",
   "metadata": {},
   "outputs": [],
   "source": [
    "colnames = [\"VOG1\",\"VOG2\",\"Score\",\"Length\",\"Relative Score\",\"Function\"]\n",
    "orf_df = pd.DataFrame(orf_protein,columns=colnames)\n",
    "orf_df = orf_df.replace('\\n','', regex=True)"
   ]
  },
  {
   "cell_type": "code",
   "execution_count": null,
   "id": "571e526f",
   "metadata": {},
   "outputs": [],
   "source": [
    "#orf_df"
   ]
  },
  {
   "cell_type": "code",
   "execution_count": null,
   "id": "40972ff1",
   "metadata": {
    "scrolled": true
   },
   "outputs": [],
   "source": [
    "#boxplot describing how function relates to score\n",
    "\n",
    "import seaborn as sns\n",
    "\n",
    "sns.set_style('ticks')\n",
    "fig, ax = plt.subplots()\n",
    "fig.set_size_inches(14, 10)\n",
    "sns.boxplot(y = \"Relative Score\", x = \"Function\", data = orf_df)    \n",
    "ax.set(xlabel=\"Function\",ylabel=\"Contact Similarity Score\")\n",
    "sns.despine()"
   ]
  },
  {
   "cell_type": "code",
   "execution_count": null,
   "id": "4ce781b6",
   "metadata": {},
   "outputs": [],
   "source": [
    "orf_df[\"Relative Score\"].mean()"
   ]
  },
  {
   "cell_type": "code",
   "execution_count": null,
   "id": "88fa4378",
   "metadata": {},
   "outputs": [],
   "source": [
    "caps = orf_df[\"Relative Score\"].values\n",
    "Xs2 = con_df2.loc[(con_df2[\"Function\"]==\"Xs\"),\"Relative Score\"].values"
   ]
  },
  {
   "cell_type": "code",
   "execution_count": null,
   "id": "f1899ffb",
   "metadata": {},
   "outputs": [],
   "source": [
    "stat_results = [mannwhitneyu(Xs2, caps, alternative=\"two-sided\")]"
   ]
  },
  {
   "cell_type": "code",
   "execution_count": null,
   "id": "79c350a4",
   "metadata": {},
   "outputs": [],
   "source": [
    "stat_results"
   ]
  },
  {
   "cell_type": "code",
   "execution_count": null,
   "id": "44d9d2b3",
   "metadata": {
    "scrolled": true
   },
   "outputs": [],
   "source": [
    "#import capsid tsv\n",
    "fiber = []\n",
    "\n",
    "for line in open('/Users/williamharrigan/Desktop/Github/protein-seq-contact-sites/VOGS/tsv/fiber.tsv'):\n",
    "    data = line.split(\"\\t\")\n",
    "    fiber.append(data[0])\n",
    "    \n"
   ]
  },
  {
   "cell_type": "code",
   "execution_count": null,
   "id": "4515686d",
   "metadata": {},
   "outputs": [],
   "source": [
    "fiber_protein = set()"
   ]
  },
  {
   "cell_type": "code",
   "execution_count": null,
   "id": "a712e081",
   "metadata": {},
   "outputs": [],
   "source": [
    "def fiber_prot(fibers):\n",
    "    for i in located_vog:\n",
    "        if i[0]==fibers or i[1]==fibers:\n",
    "            fiber_protein.add(i)"
   ]
  },
  {
   "cell_type": "code",
   "execution_count": null,
   "id": "a88b25cf",
   "metadata": {
    "scrolled": true
   },
   "outputs": [],
   "source": [
    "for protein in fiber:\n",
    "    fibers = protein\n",
    "    fiber_prot(fibers)"
   ]
  },
  {
   "cell_type": "code",
   "execution_count": null,
   "id": "dc6d6179",
   "metadata": {},
   "outputs": [],
   "source": [
    "colnames = [\"VOG1\",\"VOG2\",\"Score\",\"Length\",\"Relative Score\",\"Function\"]\n",
    "fiber_df = pd.DataFrame(fiber_protein,columns=colnames)\n",
    "fiber_df = fiber_df.replace('\\n','', regex=True)"
   ]
  },
  {
   "cell_type": "code",
   "execution_count": null,
   "id": "ae806795",
   "metadata": {},
   "outputs": [],
   "source": [
    "#fiber_df"
   ]
  },
  {
   "cell_type": "code",
   "execution_count": null,
   "id": "7dbf7c6a",
   "metadata": {
    "scrolled": true
   },
   "outputs": [],
   "source": [
    "#boxplot describing how function relates to score\n",
    "\n",
    "import seaborn as sns\n",
    "\n",
    "sns.set_style('ticks')\n",
    "fig, ax = plt.subplots()\n",
    "fig.set_size_inches(14, 10)\n",
    "sns.boxplot(y = \"Relative Score\", x = \"Function\", data = orf_df)    \n",
    "ax.set(xlabel=\"Function\",ylabel=\"Contact Similarity Score\")\n",
    "sns.despine()"
   ]
  },
  {
   "cell_type": "code",
   "execution_count": null,
   "id": "b1a6c2a9",
   "metadata": {},
   "outputs": [],
   "source": [
    "fiber_df[\"Relative Score\"].mean()"
   ]
  },
  {
   "cell_type": "code",
   "execution_count": null,
   "id": "55df8ec4",
   "metadata": {},
   "outputs": [],
   "source": [
    "caps = f_df[\"Relative Score\"].values\n",
    "Xs2 = con_df2.loc[(con_df2[\"Function\"]==\"Xs\"),\"Relative Score\"].values"
   ]
  },
  {
   "cell_type": "code",
   "execution_count": null,
   "id": "25905600",
   "metadata": {},
   "outputs": [],
   "source": [
    "stat_results = [mannwhitneyu(Xs2, caps, alternative=\"two-sided\")]"
   ]
  },
  {
   "cell_type": "code",
   "execution_count": null,
   "id": "653d70bc",
   "metadata": {},
   "outputs": [],
   "source": [
    "stat_results"
   ]
  }
 ],
 "metadata": {
  "kernelspec": {
   "display_name": "Python 3 (ipykernel)",
   "language": "python",
   "name": "python3"
  },
  "language_info": {
   "codemirror_mode": {
    "name": "ipython",
    "version": 3
   },
   "file_extension": ".py",
   "mimetype": "text/x-python",
   "name": "python",
   "nbconvert_exporter": "python",
   "pygments_lexer": "ipython3",
   "version": "3.9.12"
  }
 },
 "nbformat": 4,
 "nbformat_minor": 5
}
