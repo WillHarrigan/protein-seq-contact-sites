{
 "cells": [
  {
   "cell_type": "code",
   "execution_count": 70,
   "id": "39c4cfcd",
   "metadata": {},
   "outputs": [],
   "source": [
    "import pandas as pd\n",
    "vogs_to_seqs = {}"
   ]
  },
  {
   "cell_type": "code",
   "execution_count": 71,
   "id": "b4ee0a31",
   "metadata": {},
   "outputs": [],
   "source": [
    "for line in open('/Users/williamharrigan/Desktop/Github/protein-seq-contact-sites/VOGS/vog.species.tsv'):\n",
    "    data = line.split(\"\\t\")\n",
    "    vogs_to_seqs[data[0]] = set([data[1]])\n",
    "    \n",
    "    \n",
    "\n",
    "#data"
   ]
  },
  {
   "cell_type": "code",
   "execution_count": 84,
   "id": "4aed9a0b",
   "metadata": {},
   "outputs": [],
   "source": [
    "with open(\"myfile.txt\", 'w') as f: \n",
    "    for key, value in vogs_to_seqs.items(): \n",
    "        f.write('%s\\t%s\\n' % (key, value))"
   ]
  },
  {
   "cell_type": "code",
   "execution_count": null,
   "id": "9e533a89",
   "metadata": {},
   "outputs": [],
   "source": []
  },
  {
   "cell_type": "code",
   "execution_count": 68,
   "id": "630ffe1f",
   "metadata": {},
   "outputs": [
    {
     "data": {
      "text/html": [
       "<div>\n",
       "<style scoped>\n",
       "    .dataframe tbody tr th:only-of-type {\n",
       "        vertical-align: middle;\n",
       "    }\n",
       "\n",
       "    .dataframe tbody tr th {\n",
       "        vertical-align: top;\n",
       "    }\n",
       "\n",
       "    .dataframe thead th {\n",
       "        text-align: right;\n",
       "    }\n",
       "</style>\n",
       "<table border=\"1\" class=\"dataframe\">\n",
       "  <thead>\n",
       "    <tr style=\"text-align: right;\">\n",
       "      <th></th>\n",
       "    </tr>\n",
       "  </thead>\n",
       "  <tbody>\n",
       "  </tbody>\n",
       "</table>\n",
       "</div>"
      ],
      "text/plain": [
       "Empty DataFrame\n",
       "Columns: []\n",
       "Index: []"
      ]
     },
     "execution_count": 68,
     "metadata": {},
     "output_type": "execute_result"
    }
   ],
   "source": []
  }
 ],
 "metadata": {
  "kernelspec": {
   "display_name": "Python 3 (ipykernel)",
   "language": "python",
   "name": "python3"
  },
  "language_info": {
   "codemirror_mode": {
    "name": "ipython",
    "version": 3
   },
   "file_extension": ".py",
   "mimetype": "text/x-python",
   "name": "python",
   "nbconvert_exporter": "python",
   "pygments_lexer": "ipython3",
   "version": "3.9.12"
  }
 },
 "nbformat": 4,
 "nbformat_minor": 5
}
