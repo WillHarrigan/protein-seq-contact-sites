{
 "cells": [
  {
   "cell_type": "code",
   "execution_count": 88,
   "id": "3651f827",
   "metadata": {},
   "outputs": [],
   "source": [
    "import pandas as pd\n",
    "vogs_to_seqs = {}"
   ]
  },
  {
   "cell_type": "code",
   "execution_count": 87,
   "id": "3d6abbe9",
   "metadata": {},
   "outputs": [],
   "source": [
    "#Saving the Species name and Taxonomomy ID into a dictionary\n",
    "#Species name = key\n",
    "#Taxonomy ID = value\n",
    "\n",
    "for line in open('/Users/williamharrigan/Desktop/Github/protein-seq-contact-sites/VOGS/vog.species.tsv'):\n",
    "    data = line.split(\"\\t\")\n",
    "    vogs_to_seqs[data[0]] = set([data[1]])\n",
    "    "
   ]
  },
  {
   "cell_type": "code",
   "execution_count": 86,
   "id": "1587660f",
   "metadata": {},
   "outputs": [],
   "source": [
    "#saving the keys and values to a text file\n",
    "#Columns are separated by tabs and rows are stored in new lines\n",
    "\n",
    "with open(\"myfile.txt\", 'w') as f: \n",
    "    for key, value in vogs_to_seqs.items(): \n",
    "        f.write('%s\\t%s\\n' % (key, value))"
   ]
  },
  {
   "cell_type": "code",
   "execution_count": null,
   "id": "0f0fb3c2",
   "metadata": {},
   "outputs": [],
   "source": []
  },
  {
   "cell_type": "code",
   "execution_count": null,
   "id": "9b12a746",
   "metadata": {},
   "outputs": [],
   "source": []
  }
 ],
 "metadata": {
  "kernelspec": {
   "display_name": "Python 3 (ipykernel)",
   "language": "python",
   "name": "python3"
  },
  "language_info": {
   "codemirror_mode": {
    "name": "ipython",
    "version": 3
   },
   "file_extension": ".py",
   "mimetype": "text/x-python",
   "name": "python",
   "nbconvert_exporter": "python",
   "pygments_lexer": "ipython3",
   "version": "3.9.12"
  }
 },
 "nbformat": 4,
 "nbformat_minor": 5
}
