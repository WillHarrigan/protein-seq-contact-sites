{
 "cells": [
  {
   "cell_type": "code",
   "execution_count": 89,
   "id": "4114326a",
   "metadata": {},
   "outputs": [],
   "source": [
    "import matplotlib.pyplot as plt\n",
    "import numpy as np\n",
    "from matplotlib import colors\n",
    "from matplotlib.ticker import PercentFormatter"
   ]
  },
  {
   "cell_type": "code",
   "execution_count": 85,
   "id": "37e3342a",
   "metadata": {},
   "outputs": [],
   "source": [
    "similarity = []"
   ]
  },
  {
   "cell_type": "code",
   "execution_count": 61,
   "id": "c89033c3",
   "metadata": {},
   "outputs": [],
   "source": []
  },
  {
   "cell_type": "code",
   "execution_count": 86,
   "id": "e3ef4e4d",
   "metadata": {},
   "outputs": [],
   "source": [
    "count = 0\n",
    "\n",
    "for line in open('/Users/williamharrigan/Desktop/Github/protein-seq-contact-sites/VOGS/random_cog_scores.tsv'):\n",
    "    count+=1\n",
    "    data = line.split(\"\\t\")\n",
    "    a = [data[0]]\n",
    "    b = [data[4]]\n",
    "    similarity.append(a+b)\n",
    "    if count==10:\n",
    "        break\n"
   ]
  },
  {
   "cell_type": "code",
   "execution_count": 87,
   "id": "aa7c3875",
   "metadata": {
    "scrolled": true
   },
   "outputs": [
    {
     "data": {
      "text/plain": [
       "[['6', '47'],\n",
       " ['5', '42'],\n",
       " ['9', '216'],\n",
       " ['8', '115'],\n",
       " ['8', '69'],\n",
       " ['11', '38'],\n",
       " ['8', '79'],\n",
       " ['9', '177'],\n",
       " ['10', '113'],\n",
       " ['8', '216']]"
      ]
     },
     "execution_count": 87,
     "metadata": {},
     "output_type": "execute_result"
    }
   ],
   "source": [
    "similarity"
   ]
  },
  {
   "cell_type": "code",
   "execution_count": 88,
   "id": "61de16f5",
   "metadata": {},
   "outputs": [
    {
     "ename": "NameError",
     "evalue": "name 'plot' is not defined",
     "output_type": "error",
     "traceback": [
      "\u001b[0;31m---------------------------------------------------------------------------\u001b[0m",
      "\u001b[0;31mNameError\u001b[0m                                 Traceback (most recent call last)",
      "Input \u001b[0;32mIn [88]\u001b[0m, in \u001b[0;36m<cell line: 1>\u001b[0;34m()\u001b[0m\n\u001b[0;32m----> 1\u001b[0m \u001b[43mplot\u001b[49m(similarity)\n",
      "\u001b[0;31mNameError\u001b[0m: name 'plot' is not defined"
     ]
    }
   ],
   "source": [
    "plot(similarity)"
   ]
  },
  {
   "cell_type": "code",
   "execution_count": 3,
   "id": "7f9b37c5",
   "metadata": {},
   "outputs": [
    {
     "data": {
      "text/plain": [
       "['605',\n",
       " '592.7500000000057',\n",
       " 'YP_009810043.1',\n",
       " 'YP_009810600.1',\n",
       " '719',\n",
       " '722\\n']"
      ]
     },
     "execution_count": 3,
     "metadata": {},
     "output_type": "execute_result"
    }
   ],
   "source": [
    "for line in open('/Users/williamharrigan/Desktop/Github/protein-seq-contact-sites/VOGS/same_vog_scores.tsv'):\n",
    "    data = line.split(\"\\t\")\n",
    "\n",
    "data"
   ]
  },
  {
   "cell_type": "code",
   "execution_count": null,
   "id": "341c2929",
   "metadata": {},
   "outputs": [],
   "source": []
  }
 ],
 "metadata": {
  "kernelspec": {
   "display_name": "Python 3 (ipykernel)",
   "language": "python",
   "name": "python3"
  },
  "language_info": {
   "codemirror_mode": {
    "name": "ipython",
    "version": 3
   },
   "file_extension": ".py",
   "mimetype": "text/x-python",
   "name": "python",
   "nbconvert_exporter": "python",
   "pygments_lexer": "ipython3",
   "version": "3.9.12"
  }
 },
 "nbformat": 4,
 "nbformat_minor": 5
}
