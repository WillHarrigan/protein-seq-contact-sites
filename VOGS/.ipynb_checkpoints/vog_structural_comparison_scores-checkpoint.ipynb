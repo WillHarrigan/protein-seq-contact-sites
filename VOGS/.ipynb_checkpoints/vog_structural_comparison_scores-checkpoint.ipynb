{
 "cells": [
  {
   "cell_type": "code",
   "execution_count": 1,
   "id": "07866f93",
   "metadata": {},
   "outputs": [],
   "source": [
    "function = {}"
   ]
  },
  {
   "cell_type": "code",
   "execution_count": 2,
   "id": "a3adf1eb",
   "metadata": {},
   "outputs": [
    {
     "data": {
      "text/plain": [
       "['VOG35115', '2', '2', 'Xu', 'REFSEQ EsV-1-125\\n']"
      ]
     },
     "execution_count": 2,
     "metadata": {},
     "output_type": "execute_result"
    }
   ],
   "source": [
    "for line in open('/Users/williamharrigan/Desktop/Github/protein-seq-contact-sites/VOGS/tsv/vog.annotations.tsv'):\n",
    "    data = line.split(\"\\t\")\n",
    "    if not data[0] in function: \n",
    "        function[data[0]] = data[3]\n",
    "    else:\n",
    "        function[data[0]].add(data[3])    \n",
    "data   "
   ]
  },
  {
   "cell_type": "code",
   "execution_count": 4,
   "id": "9484c560",
   "metadata": {},
   "outputs": [],
   "source": [
    "vog_members = {}"
   ]
  },
  {
   "cell_type": "code",
   "execution_count": 14,
   "id": "7fab0aa1",
   "metadata": {},
   "outputs": [
    {
     "data": {
      "text/plain": [
       "['VOG35115', '2', '2', 'Xu', '37665.NP_077610.1,39420.YP_002154705.1\\n']"
      ]
     },
     "execution_count": 14,
     "metadata": {},
     "output_type": "execute_result"
    }
   ],
   "source": [
    "#occasionally items cannot be located from dictionary\n",
    "\n",
    "for line in open('/Users/williamharrigan/Desktop/Github/protein-seq-contact-sites/VOGS/tsv/vog.members.tsv'):\n",
    "    data = line.split(\"\\t\")\n",
    "    if not data[0] in vog_members: \n",
    "        vog_members[data[0]]=[data[4]]\n",
    "    else:\n",
    "        vog_members[data[0]]=(data[4])\n",
    "        \n",
    "data"
   ]
  },
  {
   "cell_type": "code",
   "execution_count": 6,
   "id": "0f680ad4",
   "metadata": {},
   "outputs": [],
   "source": [
    "#value = '1269028.AGC01594.1'\n",
    "\n",
    "def locate_vog(value):\n",
    "    for k, v in vog_members.items():\n",
    "        if value in v:\n",
    "            return k\n",
    "            \n",
    "            \n",
    "        "
   ]
  },
  {
   "cell_type": "code",
   "execution_count": 7,
   "id": "e5d129f6",
   "metadata": {},
   "outputs": [],
   "source": [
    "def vog_function(vogPair):\n",
    "    for k,v in function.items():\n",
    "        if vogPair in k:\n",
    "            return v\n",
    "        #if i in function:\n",
    "         #   if \"Xs\" in (function[i]):\n",
    "          #      xs_vogs.append(i)\n",
    "    "
   ]
  },
  {
   "cell_type": "code",
   "execution_count": 8,
   "id": "e2527d02",
   "metadata": {},
   "outputs": [],
   "source": [
    "vog_comp = set()"
   ]
  },
  {
   "cell_type": "code",
   "execution_count": 9,
   "id": "83a128bf",
   "metadata": {},
   "outputs": [
    {
     "data": {
      "text/plain": [
       "['605',\n",
       " '592.7500000000057',\n",
       " 'YP_009810043.1',\n",
       " 'YP_009810600.1',\n",
       " '719',\n",
       " '722\\n']"
      ]
     },
     "execution_count": 9,
     "metadata": {},
     "output_type": "execute_result"
    }
   ],
   "source": [
    "for line in open('/Users/williamharrigan/Desktop/Github/protein-seq-contact-sites/VOGS/tsv/same_vog_scores.tsv'):\n",
    "    data = list(line.split(\"\\t\"))\n",
    "    if (len(data)) == 6:\n",
    "        seq_pairs = []\n",
    "        seq_pairs.append(data[2])\n",
    "        seq_pairs.append(data[3])\n",
    "        seq_pairs.append(data[0])\n",
    "        seq_pairs.append(data[5])\n",
    "        vog_comp.add(tuple(seq_pairs))\n",
    "        \n",
    "data"
   ]
  },
  {
   "cell_type": "code",
   "execution_count": 10,
   "id": "efa82e15",
   "metadata": {},
   "outputs": [
    {
     "data": {
      "text/plain": [
       "6"
      ]
     },
     "execution_count": 10,
     "metadata": {},
     "output_type": "execute_result"
    }
   ],
   "source": [
    "len(data)"
   ]
  },
  {
   "cell_type": "code",
   "execution_count": 79,
   "id": "e4554612",
   "metadata": {},
   "outputs": [],
   "source": [
    "#vog_comp"
   ]
  },
  {
   "cell_type": "code",
   "execution_count": 12,
   "id": "c49f70b0",
   "metadata": {},
   "outputs": [],
   "source": [
    "located_vog = set()"
   ]
  },
  {
   "cell_type": "code",
   "execution_count": 15,
   "id": "ee80fee1",
   "metadata": {},
   "outputs": [],
   "source": [
    "#must run vog members code directly before\n",
    "count = 0\n",
    " \n",
    "for i in vog_comp:\n",
    "    count+=1\n",
    "    pair = []\n",
    "    pair.append(locate_vog(str(i[0])))\n",
    "    pair.append(locate_vog(str(i[1])))\n",
    "    pair.append(float(i[2]))\n",
    "    pair.append(float(i[3]))\n",
    "    pair.append(float(i[2])/float(i[3]))\n",
    "    pair.append(vog_function(pair[0]))\n",
    "    located_vog.add(tuple(pair))\n",
    "    if count==5000:\n",
    "        break"
   ]
  },
  {
   "cell_type": "code",
   "execution_count": 80,
   "id": "2b584324",
   "metadata": {
    "scrolled": true
   },
   "outputs": [],
   "source": [
    "#located_vog"
   ]
  },
  {
   "cell_type": "code",
   "execution_count": 109,
   "id": "93004286",
   "metadata": {},
   "outputs": [],
   "source": [
    "import matplotlib.pyplot as plt\n",
    "import numpy as n , pandas as pd\n",
    "\n",
    "#print(n.array(xs_seqs))\n",
    "#print(p.DataFrame(xs_seqs))\n",
    "colnames = [\"VOG1\",\"VOG2\",\"Score\",\"Length\",\"Relative Score\",\"Function\"]\n",
    "df = pd.DataFrame(located_vog,columns=colnames)\n",
    "df = df.replace('\\n','', regex=True)\n"
   ]
  },
  {
   "cell_type": "code",
   "execution_count": 53,
   "id": "236b1200",
   "metadata": {},
   "outputs": [
    {
     "data": {
      "text/html": [
       "<div>\n",
       "<style scoped>\n",
       "    .dataframe tbody tr th:only-of-type {\n",
       "        vertical-align: middle;\n",
       "    }\n",
       "\n",
       "    .dataframe tbody tr th {\n",
       "        vertical-align: top;\n",
       "    }\n",
       "\n",
       "    .dataframe thead th {\n",
       "        text-align: right;\n",
       "    }\n",
       "</style>\n",
       "<table border=\"1\" class=\"dataframe\">\n",
       "  <thead>\n",
       "    <tr style=\"text-align: right;\">\n",
       "      <th></th>\n",
       "      <th>VOG1</th>\n",
       "      <th>VOG2</th>\n",
       "      <th>Score</th>\n",
       "      <th>Length</th>\n",
       "      <th>Relative Score</th>\n",
       "      <th>Function</th>\n",
       "    </tr>\n",
       "  </thead>\n",
       "  <tbody>\n",
       "    <tr>\n",
       "      <th>0</th>\n",
       "      <td>VOG15136</td>\n",
       "      <td>VOG15136</td>\n",
       "      <td>17.0</td>\n",
       "      <td>100.0</td>\n",
       "      <td>0.170000</td>\n",
       "      <td>Xu</td>\n",
       "    </tr>\n",
       "    <tr>\n",
       "      <th>1</th>\n",
       "      <td>VOG08148</td>\n",
       "      <td>VOG08148</td>\n",
       "      <td>59.0</td>\n",
       "      <td>60.0</td>\n",
       "      <td>0.983333</td>\n",
       "      <td>Xu</td>\n",
       "    </tr>\n",
       "    <tr>\n",
       "      <th>2</th>\n",
       "      <td>VOG00521</td>\n",
       "      <td>VOG00521</td>\n",
       "      <td>5.0</td>\n",
       "      <td>161.0</td>\n",
       "      <td>0.031056</td>\n",
       "      <td>XhXpXrXs</td>\n",
       "    </tr>\n",
       "    <tr>\n",
       "      <th>3</th>\n",
       "      <td>VOG03660</td>\n",
       "      <td>VOG00340</td>\n",
       "      <td>29.0</td>\n",
       "      <td>229.0</td>\n",
       "      <td>0.126638</td>\n",
       "      <td>Xu</td>\n",
       "    </tr>\n",
       "    <tr>\n",
       "      <th>4</th>\n",
       "      <td>VOG34717</td>\n",
       "      <td>VOG34717</td>\n",
       "      <td>161.0</td>\n",
       "      <td>189.0</td>\n",
       "      <td>0.851852</td>\n",
       "      <td>Xu</td>\n",
       "    </tr>\n",
       "  </tbody>\n",
       "</table>\n",
       "</div>"
      ],
      "text/plain": [
       "       VOG1      VOG2  Score  Length  Relative Score  Function\n",
       "0  VOG15136  VOG15136   17.0   100.0        0.170000        Xu\n",
       "1  VOG08148  VOG08148   59.0    60.0        0.983333        Xu\n",
       "2  VOG00521  VOG00521    5.0   161.0        0.031056  XhXpXrXs\n",
       "3  VOG03660  VOG00340   29.0   229.0        0.126638        Xu\n",
       "4  VOG34717  VOG34717  161.0   189.0        0.851852        Xu"
      ]
     },
     "execution_count": 53,
     "metadata": {},
     "output_type": "execute_result"
    }
   ],
   "source": [
    "df.head()"
   ]
  },
  {
   "cell_type": "code",
   "execution_count": 54,
   "id": "1e56a828",
   "metadata": {},
   "outputs": [
    {
     "data": {
      "text/plain": [
       "(4945, 6)"
      ]
     },
     "execution_count": 54,
     "metadata": {},
     "output_type": "execute_result"
    }
   ],
   "source": [
    "df.shape"
   ]
  },
  {
   "cell_type": "code",
   "execution_count": 55,
   "id": "b98fa8a3",
   "metadata": {
    "scrolled": true
   },
   "outputs": [
    {
     "data": {
      "text/html": [
       "<div>\n",
       "<style scoped>\n",
       "    .dataframe tbody tr th:only-of-type {\n",
       "        vertical-align: middle;\n",
       "    }\n",
       "\n",
       "    .dataframe tbody tr th {\n",
       "        vertical-align: top;\n",
       "    }\n",
       "\n",
       "    .dataframe thead th {\n",
       "        text-align: right;\n",
       "    }\n",
       "</style>\n",
       "<table border=\"1\" class=\"dataframe\">\n",
       "  <thead>\n",
       "    <tr style=\"text-align: right;\">\n",
       "      <th></th>\n",
       "      <th>Score</th>\n",
       "      <th>Length</th>\n",
       "      <th>Relative Score</th>\n",
       "    </tr>\n",
       "  </thead>\n",
       "  <tbody>\n",
       "    <tr>\n",
       "      <th>count</th>\n",
       "      <td>4945.000000</td>\n",
       "      <td>4945.000000</td>\n",
       "      <td>4945.000000</td>\n",
       "    </tr>\n",
       "    <tr>\n",
       "      <th>mean</th>\n",
       "      <td>138.367037</td>\n",
       "      <td>234.346815</td>\n",
       "      <td>0.663177</td>\n",
       "    </tr>\n",
       "    <tr>\n",
       "      <th>std</th>\n",
       "      <td>144.456914</td>\n",
       "      <td>214.743260</td>\n",
       "      <td>0.311738</td>\n",
       "    </tr>\n",
       "    <tr>\n",
       "      <th>min</th>\n",
       "      <td>2.000000</td>\n",
       "      <td>20.000000</td>\n",
       "      <td>0.007949</td>\n",
       "    </tr>\n",
       "    <tr>\n",
       "      <th>25%</th>\n",
       "      <td>51.000000</td>\n",
       "      <td>90.000000</td>\n",
       "      <td>0.408840</td>\n",
       "    </tr>\n",
       "    <tr>\n",
       "      <th>50%</th>\n",
       "      <td>91.000000</td>\n",
       "      <td>154.000000</td>\n",
       "      <td>0.738220</td>\n",
       "    </tr>\n",
       "    <tr>\n",
       "      <th>75%</th>\n",
       "      <td>168.000000</td>\n",
       "      <td>300.000000</td>\n",
       "      <td>0.969925</td>\n",
       "    </tr>\n",
       "    <tr>\n",
       "      <th>max</th>\n",
       "      <td>1021.000000</td>\n",
       "      <td>1022.000000</td>\n",
       "      <td>0.999022</td>\n",
       "    </tr>\n",
       "  </tbody>\n",
       "</table>\n",
       "</div>"
      ],
      "text/plain": [
       "             Score       Length  Relative Score\n",
       "count  4945.000000  4945.000000     4945.000000\n",
       "mean    138.367037   234.346815        0.663177\n",
       "std     144.456914   214.743260        0.311738\n",
       "min       2.000000    20.000000        0.007949\n",
       "25%      51.000000    90.000000        0.408840\n",
       "50%      91.000000   154.000000        0.738220\n",
       "75%     168.000000   300.000000        0.969925\n",
       "max    1021.000000  1022.000000        0.999022"
      ]
     },
     "execution_count": 55,
     "metadata": {},
     "output_type": "execute_result"
    }
   ],
   "source": [
    "df.describe()"
   ]
  },
  {
   "cell_type": "code",
   "execution_count": 56,
   "id": "c54fb244",
   "metadata": {
    "scrolled": false
   },
   "outputs": [
    {
     "data": {
      "text/plain": [
       "VOG1      VOG2      Score  Length  Relative Score  Function\n",
       "VOG00001  VOG00001  18.0   361.0   0.049861        Xh          1\n",
       "VOG07720  VOG07720  147.0  392.0   0.375000        Xu          1\n",
       "                    241.0  286.0   0.842657        Xu          1\n",
       "                    224.0  378.0   0.592593        Xu          1\n",
       "                           295.0   0.759322        Xu          1\n",
       "                                                              ..\n",
       "VOG01712  VOG01712  114.0  175.0   0.651429        Xh          1\n",
       "VOG01711  VOG01711  57.0   58.0    0.982759        Xu          1\n",
       "VOG01710  VOG01710  114.0  115.0   0.991304        Xu          1\n",
       "                    113.0  115.0   0.982609        Xu          1\n",
       "VOG34969  VOG34969  41.0   68.0    0.602941        Xu          1\n",
       "Length: 4945, dtype: int64"
      ]
     },
     "execution_count": 56,
     "metadata": {},
     "output_type": "execute_result"
    }
   ],
   "source": [
    "df.value_counts()"
   ]
  },
  {
   "cell_type": "code",
   "execution_count": 95,
   "id": "b7c786a8",
   "metadata": {
    "scrolled": true
   },
   "outputs": [
    {
     "data": {
      "image/png": "[encoded data removed]",
      "text/plain": [
       "<Figure size 1008x720 with 1 Axes>"
      ]
     },
     "metadata": {},
     "output_type": "display_data"
    }
   ],
   "source": [
    "#boxplot describing how function relates to score\n",
    "\n",
    "import seaborn as sns\n",
    "\n",
    "sns.set_style('ticks')\n",
    "fig, ax = plt.subplots()\n",
    "fig.set_size_inches(14, 10)\n",
    "sns.boxplot(y = \"Score\", x = \"Function\", data = df)    \n",
    "ax.set(xlabel=\"Function\",ylabel=\"Contact Similarity Score\")\n",
    "sns.despine()"
   ]
  },
  {
   "cell_type": "code",
   "execution_count": 94,
   "id": "7e44b9dc",
   "metadata": {
    "scrolled": false
   },
   "outputs": [
    {
     "data": {
      "image/png": "[encoded data removed]",
      "text/plain": [
       "<Figure size 1008x720 with 1 Axes>"
      ]
     },
     "metadata": {},
     "output_type": "display_data"
    }
   ],
   "source": [
    "#boxplot describing how function/seq length relates to function\n",
    "\n",
    "import seaborn as sns\n",
    "\n",
    "sns.set_style('ticks')\n",
    "fig, ax = plt.subplots()\n",
    "fig.set_size_inches(14, 10)\n",
    "sns.boxplot(y = \"Length\", x = \"Function\", data = df) \n",
    "ax.set(xlabel=\"Function\",ylabel=\"Sequence Length\")\n",
    "sns.despine()"
   ]
  },
  {
   "cell_type": "code",
   "execution_count": 93,
   "id": "0d49eee4",
   "metadata": {
    "scrolled": true
   },
   "outputs": [
    {
     "data": {
      "image/png": "[encoded data removed]",
      "text/plain": [
       "<Figure size 1008x720 with 1 Axes>"
      ]
     },
     "metadata": {},
     "output_type": "display_data"
    }
   ],
   "source": [
    "#boxplot describing how sequence length relates to function\n",
    "\n",
    "sns.set_style('ticks')\n",
    "fig, ax = plt.subplots()\n",
    "fig.set_size_inches(14, 10)\n",
    "sns.boxplot(y = \"Relative Score\", x = \"Function\", data = df)\n",
    "ax.set(xlabel=\"Function\",ylabel=\"Contact Similarity Score Relative to Sequence Length\")\n",
    "sns.despine()"
   ]
  },
  {
   "cell_type": "code",
   "execution_count": 36,
   "id": "9d0bfead",
   "metadata": {},
   "outputs": [],
   "source": [
    "import matplotlib.pyplot as plt\n",
    "import pandas as pd\n",
    "import seaborn as sns\n",
    "\n",
    "# A few helper functions:\n",
    "from utils import *\n",
    "\n",
    "# To illustrate examples\n",
    "import numpy as np\n",
    "from scipy.stats import mannwhitneyu, normaltest"
   ]
  },
  {
   "cell_type": "code",
   "execution_count": 59,
   "id": "175a02df",
   "metadata": {},
   "outputs": [],
   "source": [
    "funs = list(df[\"Function\"].unique())"
   ]
  },
  {
   "cell_type": "code",
   "execution_count": 69,
   "id": "4d105889",
   "metadata": {},
   "outputs": [
    {
     "data": {
      "text/plain": [
       "['Xu',\n",
       " 'XhXpXrXs',\n",
       " 'XhXs',\n",
       " 'XhXr',\n",
       " 'XhXp',\n",
       " 'Xh',\n",
       " 'Xp',\n",
       " 'Xr',\n",
       " 'XhXrXs',\n",
       " 'Xs',\n",
       " 'XhXpXs',\n",
       " 'XhXpXr',\n",
       " 'XpXs',\n",
       " 'XpXrXs',\n",
       " 'XrXs']"
      ]
     },
     "execution_count": 69,
     "metadata": {},
     "output_type": "execute_result"
    }
   ],
   "source": [
    "funs"
   ]
  },
  {
   "cell_type": "code",
   "execution_count": 98,
   "id": "c3020a9c",
   "metadata": {},
   "outputs": [],
   "source": [
    "Xs = df.loc[(df[\"Function\"]==\"Xs\"),\"Relative Score\"].values\n",
    "Xu = df.loc[(df[\"Function\"]==\"Xu\"),\"Relative Score\"].values\n",
    "XhXpXrXs = df.loc[(df[\"Function\"]==\"XhXpXrXs\"),\"Relative Score\"].values\n",
    "XhXs = df.loc[(df[\"Function\"]==\"XhXs\"),\"Relative Score\"].values\n",
    "XhXr = df.loc[(df[\"Function\"]==\"XhXr\"),\"Relative Score\"].values\n",
    "XhXp = df.loc[(df[\"Function\"]==\"XhXp\"),\"Relative Score\"].values\n",
    "Xp = df.loc[(df[\"Function\"]==\"Xp\"),\"Relative Score\"].values\n",
    "Xr = df.loc[(df[\"Function\"]==\"Xr\"),\"Relative Score\"].values\n",
    "Xh = df.loc[(df[\"Function\"]==\"Xh\"),\"Relative Score\"].values"
   ]
  },
  {
   "cell_type": "code",
   "execution_count": 100,
   "id": "c993bb86",
   "metadata": {},
   "outputs": [],
   "source": [
    "stat_results = [mannwhitneyu(Xs, Xu, alternative=\"two-sided\"),\n",
    "                mannwhitneyu(Xs, XhXpXrXs, alternative=\"two-sided\"),\n",
    "                mannwhitneyu(Xp, Xh, alternative=\"two-sided\"),\n",
    "                mannwhitneyu(Xs, Xr, alternative=\"two-sided\")]"
   ]
  },
  {
   "cell_type": "code",
   "execution_count": 101,
   "id": "3836314b",
   "metadata": {},
   "outputs": [
    {
     "data": {
      "text/plain": [
       "[MannwhitneyuResult(statistic=242597.0, pvalue=2.4099493826949125e-05),\n",
       " MannwhitneyuResult(statistic=10179.0, pvalue=0.26420505328197064),\n",
       " MannwhitneyuResult(statistic=4659.0, pvalue=0.008994983574043432),\n",
       " MannwhitneyuResult(statistic=7277.5, pvalue=0.08517002236225892)]"
      ]
     },
     "execution_count": 101,
     "metadata": {},
     "output_type": "execute_result"
    }
   ],
   "source": [
    "stat_results"
   ]
  },
  {
   "cell_type": "code",
   "execution_count": 112,
   "id": "55cae3fc",
   "metadata": {},
   "outputs": [],
   "source": [
    "con_df = df.replace({'Function' : { \"XhXpXrXs\" : \"XrXs\", \"XhXs\" : \"Xs\",\"XhXrXs\":\"XrXs\",\n",
    "                                  \"XhXpXr\" : \"Xr\",\"XhXpXs\" : \"Xs\",\"XpXs\" : \"Xs\",\"XpXrXs\" : \"XrXs\"}})"
   ]
  },
  {
   "cell_type": "code",
   "execution_count": 167,
   "id": "afe51802",
   "metadata": {},
   "outputs": [],
   "source": [
    "con_df2 = con_df.loc[(con_df[\"Function\"]==\"Xr\") | (con_df[\"Function\"]==\"Xs\")|(con_df[\"Function\"]==\"XrXs\")]\n",
    "#con_df2 = con_df2.loc[con_df2[\"Function\"]==\"Xs\"]\n",
    "#con_df2 = con_df2.loc[con_df2[\"Function\"]==\"XrXr\"]"
   ]
  },
  {
   "cell_type": "code",
   "execution_count": 168,
   "id": "03007067",
   "metadata": {},
   "outputs": [
    {
     "data": {
      "text/html": [
       "<div>\n",
       "<style scoped>\n",
       "    .dataframe tbody tr th:only-of-type {\n",
       "        vertical-align: middle;\n",
       "    }\n",
       "\n",
       "    .dataframe tbody tr th {\n",
       "        vertical-align: top;\n",
       "    }\n",
       "\n",
       "    .dataframe thead th {\n",
       "        text-align: right;\n",
       "    }\n",
       "</style>\n",
       "<table border=\"1\" class=\"dataframe\">\n",
       "  <thead>\n",
       "    <tr style=\"text-align: right;\">\n",
       "      <th></th>\n",
       "      <th>VOG1</th>\n",
       "      <th>VOG2</th>\n",
       "      <th>Score</th>\n",
       "      <th>Length</th>\n",
       "      <th>Relative Score</th>\n",
       "      <th>Function</th>\n",
       "    </tr>\n",
       "  </thead>\n",
       "  <tbody>\n",
       "    <tr>\n",
       "      <th>2</th>\n",
       "      <td>VOG00521</td>\n",
       "      <td>VOG00521</td>\n",
       "      <td>5.0</td>\n",
       "      <td>161.0</td>\n",
       "      <td>0.031056</td>\n",
       "      <td>XrXs</td>\n",
       "    </tr>\n",
       "    <tr>\n",
       "      <th>6</th>\n",
       "      <td>VOG00310</td>\n",
       "      <td>VOG00310</td>\n",
       "      <td>57.0</td>\n",
       "      <td>118.0</td>\n",
       "      <td>0.483051</td>\n",
       "      <td>Xs</td>\n",
       "    </tr>\n",
       "    <tr>\n",
       "      <th>13</th>\n",
       "      <td>VOG01284</td>\n",
       "      <td>VOG01284</td>\n",
       "      <td>99.0</td>\n",
       "      <td>116.0</td>\n",
       "      <td>0.853448</td>\n",
       "      <td>Xs</td>\n",
       "    </tr>\n",
       "    <tr>\n",
       "      <th>15</th>\n",
       "      <td>VOG01299</td>\n",
       "      <td>VOG01299</td>\n",
       "      <td>484.0</td>\n",
       "      <td>803.0</td>\n",
       "      <td>0.602740</td>\n",
       "      <td>XrXs</td>\n",
       "    </tr>\n",
       "    <tr>\n",
       "      <th>40</th>\n",
       "      <td>VOG00521</td>\n",
       "      <td>VOG00521</td>\n",
       "      <td>8.0</td>\n",
       "      <td>186.0</td>\n",
       "      <td>0.043011</td>\n",
       "      <td>XrXs</td>\n",
       "    </tr>\n",
       "    <tr>\n",
       "      <th>...</th>\n",
       "      <td>...</td>\n",
       "      <td>...</td>\n",
       "      <td>...</td>\n",
       "      <td>...</td>\n",
       "      <td>...</td>\n",
       "      <td>...</td>\n",
       "    </tr>\n",
       "    <tr>\n",
       "      <th>4897</th>\n",
       "      <td>VOG00885</td>\n",
       "      <td>VOG00885</td>\n",
       "      <td>31.0</td>\n",
       "      <td>364.0</td>\n",
       "      <td>0.085165</td>\n",
       "      <td>Xs</td>\n",
       "    </tr>\n",
       "    <tr>\n",
       "      <th>4904</th>\n",
       "      <td>VOG01986</td>\n",
       "      <td>VOG01986</td>\n",
       "      <td>19.0</td>\n",
       "      <td>1022.0</td>\n",
       "      <td>0.018591</td>\n",
       "      <td>XrXs</td>\n",
       "    </tr>\n",
       "    <tr>\n",
       "      <th>4913</th>\n",
       "      <td>VOG05627</td>\n",
       "      <td>VOG05627</td>\n",
       "      <td>249.0</td>\n",
       "      <td>580.0</td>\n",
       "      <td>0.429310</td>\n",
       "      <td>Xs</td>\n",
       "    </tr>\n",
       "    <tr>\n",
       "      <th>4936</th>\n",
       "      <td>VOG02260</td>\n",
       "      <td>VOG02260</td>\n",
       "      <td>323.0</td>\n",
       "      <td>392.0</td>\n",
       "      <td>0.823980</td>\n",
       "      <td>Xs</td>\n",
       "    </tr>\n",
       "    <tr>\n",
       "      <th>4943</th>\n",
       "      <td>VOG00433</td>\n",
       "      <td>VOG00433</td>\n",
       "      <td>29.0</td>\n",
       "      <td>52.0</td>\n",
       "      <td>0.557692</td>\n",
       "      <td>XrXs</td>\n",
       "    </tr>\n",
       "  </tbody>\n",
       "</table>\n",
       "<p>758 rows × 6 columns</p>\n",
       "</div>"
      ],
      "text/plain": [
       "          VOG1      VOG2  Score  Length  Relative Score Function\n",
       "2     VOG00521  VOG00521    5.0   161.0        0.031056     XrXs\n",
       "6     VOG00310  VOG00310   57.0   118.0        0.483051       Xs\n",
       "13    VOG01284  VOG01284   99.0   116.0        0.853448       Xs\n",
       "15    VOG01299  VOG01299  484.0   803.0        0.602740     XrXs\n",
       "40    VOG00521  VOG00521    8.0   186.0        0.043011     XrXs\n",
       "...        ...       ...    ...     ...             ...      ...\n",
       "4897  VOG00885  VOG00885   31.0   364.0        0.085165       Xs\n",
       "4904  VOG01986  VOG01986   19.0  1022.0        0.018591     XrXs\n",
       "4913  VOG05627  VOG05627  249.0   580.0        0.429310       Xs\n",
       "4936  VOG02260  VOG02260  323.0   392.0        0.823980       Xs\n",
       "4943  VOG00433  VOG00433   29.0    52.0        0.557692     XrXs\n",
       "\n",
       "[758 rows x 6 columns]"
      ]
     },
     "execution_count": 168,
     "metadata": {},
     "output_type": "execute_result"
    }
   ],
   "source": [
    "con_df2"
   ]
  },
  {
   "cell_type": "code",
   "execution_count": 169,
   "id": "bc6077ff",
   "metadata": {},
   "outputs": [
    {
     "data": {
      "image/png": "[encoded data removed]",
      "text/plain": [
       "<Figure size 1008x720 with 1 Axes>"
      ]
     },
     "metadata": {},
     "output_type": "display_data"
    }
   ],
   "source": [
    "#boxplot describing how function relates to score\n",
    "\n",
    "import seaborn as sns\n",
    "\n",
    "sns.set_style('ticks')\n",
    "fig, ax = plt.subplots()\n",
    "fig.set_size_inches(14, 10)\n",
    "sns.boxplot(y = \"Score\", x = \"Function\", data = con_df2)    \n",
    "ax.set(xlabel=\"Function\",ylabel=\"Contact Similarity Score\")\n",
    "sns.despine()"
   ]
  },
  {
   "cell_type": "code",
   "execution_count": 170,
   "id": "6db23f65",
   "metadata": {
    "scrolled": true
   },
   "outputs": [
    {
     "data": {
      "image/png": "[encoded data removed]",
      "text/plain": [
       "<Figure size 1008x720 with 1 Axes>"
      ]
     },
     "metadata": {},
     "output_type": "display_data"
    }
   ],
   "source": [
    "#boxplot describing how function relates to score\n",
    "\n",
    "import seaborn as sns\n",
    "\n",
    "sns.set_style('ticks')\n",
    "fig, ax = plt.subplots()\n",
    "fig.set_size_inches(14, 10)\n",
    "sns.boxplot(y = \"Score\", x = \"Function\", data = con_df2)    \n",
    "ax.set(xlabel=\"Function\",ylabel=\"Contact Similarity Score\")\n",
    "sns.despine()"
   ]
  },
  {
   "cell_type": "code",
   "execution_count": 184,
   "id": "a2dc5982",
   "metadata": {},
   "outputs": [],
   "source": [
    "Xr2 = con_df2.loc[(con_df2[\"Function\"]==\"Xr\"),\"Relative Score\"].values\n",
    "Xs2 = con_df2.loc[(con_df2[\"Function\"]==\"Xs\"),\"Relative Score\"].values\n",
    "XrXs2 = con_df2.loc[(con_df2[\"Function\"]==\"XrXs\"),\"Relative Score\"].values"
   ]
  },
  {
   "cell_type": "code",
   "execution_count": 185,
   "id": "9ee6b351",
   "metadata": {},
   "outputs": [],
   "source": [
    "stat_results = [mannwhitneyu(Xs2, XrXs2, alternative=\"two-sided\"),\n",
    "                mannwhitneyu(Xr2, XrXs2, alternative=\"two-sided\"),\n",
    "                mannwhitneyu(Xs2, Xr2, alternative=\"two-sided\")]"
   ]
  },
  {
   "cell_type": "code",
   "execution_count": 186,
   "id": "1e68407a",
   "metadata": {},
   "outputs": [
    {
     "data": {
      "text/plain": [
       "[MannwhitneyuResult(statistic=49453.0, pvalue=0.8840273132681411),\n",
       " MannwhitneyuResult(statistic=13753.0, pvalue=0.09106164238065247),\n",
       " MannwhitneyuResult(statistic=19347.0, pvalue=0.06061667149511724)]"
      ]
     },
     "execution_count": 186,
     "metadata": {},
     "output_type": "execute_result"
    }
   ],
   "source": [
    "stat_results"
   ]
  },
  {
   "cell_type": "code",
   "execution_count": 187,
   "id": "ffbd1ca6",
   "metadata": {},
   "outputs": [],
   "source": [
    "xpxh_df2 = df.loc[(con_df[\"Function\"]==\"Xp\") | (con_df[\"Function\"]==\"Xh\")]\n"
   ]
  },
  {
   "cell_type": "code",
   "execution_count": 188,
   "id": "566209aa",
   "metadata": {},
   "outputs": [
    {
     "data": {
      "image/png": "[encoded data removed]",
      "text/plain": [
       "<Figure size 1008x720 with 1 Axes>"
      ]
     },
     "metadata": {},
     "output_type": "display_data"
    }
   ],
   "source": [
    "import seaborn as sns\n",
    "\n",
    "sns.set_style('ticks')\n",
    "fig, ax = plt.subplots()\n",
    "fig.set_size_inches(14, 10)\n",
    "sns.boxplot(y = \"Score\", x = \"Function\", data = xpxh_df2)    \n",
    "ax.set(xlabel=\"Function\",ylabel=\"Contact Similarity Score\")\n",
    "sns.despine()"
   ]
  }
 ],
 "metadata": {
  "kernelspec": {
   "display_name": "Python 3 (ipykernel)",
   "language": "python",
   "name": "python3"
  },
  "language_info": {
   "codemirror_mode": {
    "name": "ipython",
    "version": 3
   },
   "file_extension": ".py",
   "mimetype": "text/x-python",
   "name": "python",
   "nbconvert_exporter": "python",
   "pygments_lexer": "ipython3",
   "version": "3.9.12"
  }
 },
 "nbformat": 4,
 "nbformat_minor": 5
}
