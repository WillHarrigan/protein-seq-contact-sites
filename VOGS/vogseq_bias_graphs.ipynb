{
 "cells": [
  {
   "cell_type": "code",
   "execution_count": 131,
   "id": "7b94e46f",
   "metadata": {},
   "outputs": [],
   "source": [
    "import matplotlib.pyplot as plt\n",
    "import numpy as np\n",
    "from matplotlib import colors\n",
    "from matplotlib.ticker import PercentFormatter"
   ]
  },
  {
   "cell_type": "code",
   "execution_count": 132,
   "id": "de26f40e",
   "metadata": {},
   "outputs": [],
   "source": [
    "similarity = []"
   ]
  },
  {
   "cell_type": "code",
   "execution_count": 133,
   "id": "43fb35a2",
   "metadata": {},
   "outputs": [],
   "source": [
    "count = 0\n",
    "\n",
    "for line in open('/Users/williamharrigan/Desktop/Github/protein-seq-contact-sites/VOGS/random_cog_scores.tsv'):\n",
    "    count+=1\n",
    "    data = line.split(\"\\t\")\n",
    "    a = [data[0]]\n",
    "    b = [data[4]]\n",
    "    similarity.append(a+b)\n",
    "    if count==10:\n",
    "        break\n"
   ]
  },
  {
   "cell_type": "code",
   "execution_count": 134,
   "id": "574f55fe",
   "metadata": {
    "scrolled": false
   },
   "outputs": [
    {
     "data": {
      "text/plain": [
       "[['6', '47'],\n",
       " ['5', '42'],\n",
       " ['9', '216'],\n",
       " ['8', '115'],\n",
       " ['8', '69'],\n",
       " ['11', '38'],\n",
       " ['8', '79'],\n",
       " ['9', '177'],\n",
       " ['10', '113'],\n",
       " ['8', '216']]"
      ]
     },
     "execution_count": 134,
     "metadata": {},
     "output_type": "execute_result"
    }
   ],
   "source": [
    "similarity"
   ]
  },
  {
   "cell_type": "code",
   "execution_count": 3,
   "id": "5078e6cd",
   "metadata": {},
   "outputs": [
    {
     "data": {
      "text/plain": [
       "['605',\n",
       " '592.7500000000057',\n",
       " 'YP_009810043.1',\n",
       " 'YP_009810600.1',\n",
       " '719',\n",
       " '722\\n']"
      ]
     },
     "execution_count": 3,
     "metadata": {},
     "output_type": "execute_result"
    }
   ],
   "source": [
    "for line in open('/Users/williamharrigan/Desktop/Github/protein-seq-contact-sites/VOGS/same_vog_scores.tsv'):\n",
    "    data = line.split(\"\\t\")\n",
    "\n",
    "data"
   ]
  }
 ],
 "metadata": {
  "kernelspec": {
   "display_name": "Python 3 (ipykernel)",
   "language": "python",
   "name": "python3"
  },
  "language_info": {
   "codemirror_mode": {
    "name": "ipython",
    "version": 3
   },
   "file_extension": ".py",
   "mimetype": "text/x-python",
   "name": "python",
   "nbconvert_exporter": "python",
   "pygments_lexer": "ipython3",
   "version": "3.9.12"
  }
 },
 "nbformat": 4,
 "nbformat_minor": 5
}
