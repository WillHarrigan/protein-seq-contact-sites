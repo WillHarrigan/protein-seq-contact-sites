{
 "cells": [
  {
   "cell_type": "code",
   "execution_count": 104,
   "id": "115eadc3",
   "metadata": {},
   "outputs": [],
   "source": [
    "from Bio import Entrez\n",
    "from Bio import SeqIO\n",
    "from Bio import GenBank"
   ]
  },
  {
   "cell_type": "code",
   "execution_count": 2,
   "id": "55afa830",
   "metadata": {},
   "outputs": [],
   "source": [
    "Entrez.email = '<wlh3@hawaii.edu>'"
   ]
  },
  {
   "cell_type": "code",
   "execution_count": 3,
   "id": "70f30750",
   "metadata": {},
   "outputs": [],
   "source": [
    "Entrez.tool = \"Demoscript\""
   ]
  },
  {
   "cell_type": "code",
   "execution_count": 4,
   "id": "35becc2f",
   "metadata": {},
   "outputs": [],
   "source": [
    "info = Entrez.einfo()"
   ]
  },
  {
   "cell_type": "code",
   "execution_count": 6,
   "id": "d8ff316d",
   "metadata": {},
   "outputs": [],
   "source": [
    "data = info.read()\n",
    "print(data)"
   ]
  },
  {
   "cell_type": "code",
   "execution_count": 132,
   "id": "bd31deb8",
   "metadata": {},
   "outputs": [],
   "source": [
    "handle = Entrez.esummary(db = \"protein\", id = 'AFX93160.1',retmode=\"xml\")"
   ]
  },
  {
   "cell_type": "code",
   "execution_count": 133,
   "id": "bdfa37d0",
   "metadata": {},
   "outputs": [],
   "source": [
    "record = Entrez.read(handle)"
   ]
  },
  {
   "cell_type": "code",
   "execution_count": 134,
   "id": "75cb6a6a",
   "metadata": {},
   "outputs": [
    {
     "data": {
      "text/plain": [
       "<http.client.HTTPResponse at 0x7f9d721bde50>"
      ]
     },
     "execution_count": 134,
     "metadata": {},
     "output_type": "execute_result"
    }
   ],
   "source": [
    "handle"
   ]
  },
  {
   "cell_type": "code",
   "execution_count": 102,
   "id": "c1725ef0",
   "metadata": {},
   "outputs": [],
   "source": [
    "#tax = taxonomy.split(\"|\")"
   ]
  },
  {
   "cell_type": "code",
   "execution_count": 131,
   "id": "c1f2bfbd",
   "metadata": {},
   "outputs": [
    {
     "data": {
      "text/plain": [
       "{'Item': [], 'Id': '425701998', 'Caption': 'AFX93160', 'Title': 'putative ankyrin repeat protein [Megavirus courdo11]', 'Extra': 'gi|425701998|gnl|VBC|CE11_01134|gb|AFX93160.1|[425701998]', 'Gi': IntegerElement(425701998, attributes={}), 'CreateDate': '2012/12/01', 'UpdateDate': '2014/04/16', 'Flags': IntegerElement(0, attributes={}), 'TaxId': IntegerElement(1128140, attributes={}), 'Length': IntegerElement(408, attributes={}), 'Status': 'live', 'ReplacedBy': '', 'Comment': '  ', 'AccessionVersion': 'AFX93160.1'}"
      ]
     },
     "execution_count": 131,
     "metadata": {},
     "output_type": "execute_result"
    }
   ],
   "source": [
    "taxonomy"
   ]
  },
  {
   "cell_type": "code",
   "execution_count": 138,
   "id": "bd347e19",
   "metadata": {
    "scrolled": true
   },
   "outputs": [
    {
     "name": "stdout",
     "output_type": "stream",
     "text": [
      "Varidnaviria\n"
     ]
    }
   ],
   "source": [
    "from Bio import Entrez\n",
    "from Bio import SeqIO\n",
    "# Set your email address\n",
    "Entrez.email = \"your@email.com\"\n",
    "\n",
    "# Fetch the genbank record for the given GenBank ID\n",
    "handle = Entrez.efetch(db=\"protein\", id=\"AFX93160.1\", rettypes=\"gb\")\n",
    "record = SeqIO.read(handle, \"genbank\")\n",
    "\n",
    "taxonomy = record.annotations[\"taxonomy\"]\n",
    "print(taxonomy[1])"
   ]
  }
 ],
 "metadata": {
  "kernelspec": {
   "display_name": "Python 3 (ipykernel)",
   "language": "python",
   "name": "python3"
  },
  "language_info": {
   "codemirror_mode": {
    "name": "ipython",
    "version": 3
   },
   "file_extension": ".py",
   "mimetype": "text/x-python",
   "name": "python",
   "nbconvert_exporter": "python",
   "pygments_lexer": "ipython3",
   "version": "3.9.12"
  }
 },
 "nbformat": 4,
 "nbformat_minor": 5
}
