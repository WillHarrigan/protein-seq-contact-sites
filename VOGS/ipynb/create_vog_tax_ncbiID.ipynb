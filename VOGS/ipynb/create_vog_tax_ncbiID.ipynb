{
 "cells": [
  {
   "cell_type": "code",
   "execution_count": 91,
   "id": "16fdd459",
   "metadata": {},
   "outputs": [],
   "source": [
    "import pandas as pd\n",
    "vogs_to_seqs = {}"
   ]
  },
  {
   "cell_type": "code",
   "execution_count": 90,
   "id": "2dce851b",
   "metadata": {},
   "outputs": [],
   "source": [
    "#Saving the Species name and Taxonomomy ID into a dictionary\n",
    "#Species name = key\n",
    "#Taxonomy ID = value\n",
    "\n",
    "for line in open('/Users/williamharrigan/Desktop/Github/protein-seq-contact-sites/VOGS/vog.species.tsv'):\n",
    "    data = line.split(\"\\t\")\n",
    "    vogs_to_seqs[data[0]] = set([data[1]])\n",
    "    "
   ]
  },
  {
   "cell_type": "code",
   "execution_count": 89,
   "id": "2063ec72",
   "metadata": {},
   "outputs": [],
   "source": [
    "#saving the keys and values to a text file\n",
    "#Columns are separated by tabs and rows are stored in new lines\n",
    "\n",
    "with open(\"vogSpeciesTaxID.txt\", 'w') as f: \n",
    "    for key, value in vogs_to_seqs.items(): \n",
    "        f.write('%s\\t%s\\n' % (key, value))"
   ]
  },
  {
   "cell_type": "code",
   "execution_count": null,
   "id": "18024ee9",
   "metadata": {},
   "outputs": [],
   "source": []
  },
  {
   "cell_type": "code",
   "execution_count": null,
   "id": "b1490c6b",
   "metadata": {},
   "outputs": [],
   "source": []
  }
 ],
 "metadata": {
  "kernelspec": {
   "display_name": "Python 3 (ipykernel)",
   "language": "python",
   "name": "python3"
  },
  "language_info": {
   "codemirror_mode": {
    "name": "ipython",
    "version": 3
   },
   "file_extension": ".py",
   "mimetype": "text/x-python",
   "name": "python",
   "nbconvert_exporter": "python",
   "pygments_lexer": "ipython3",
   "version": "3.9.12"
  }
 },
 "nbformat": 4,
 "nbformat_minor": 5
}
