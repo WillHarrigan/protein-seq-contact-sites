{
 "cells": [
  {
   "cell_type": "code",
   "execution_count": 1,
   "id": "2ae5881c",
   "metadata": {},
   "outputs": [],
   "source": [
    "#Importing random library\n",
    "import random\n",
    "random.seed(12072022)\n",
    "\n",
    "#create a dictionary for COG key and sequence values\n",
    "cogs_to_seqs = {}\n",
    "\n",
    "#create a set to store pairs of sequence values from different COGs\n",
    "pairs = set()"
   ]
  },
  {
   "cell_type": "code",
   "execution_count": 2,
   "id": "5f01bcfc",
   "metadata": {},
   "outputs": [],
   "source": [
    "#From cog-20 file we are reading *only* COG IDs and Sequence IDs data\n",
    "#Reading 2,000,000 lines from the file\n",
    "\n",
    "i = 0\n",
    "\n",
    "for line in open('/Users/williamharrigan/Downloads/cog-20.cog.csv'):\n",
    "    data = line.split(\",\")\n",
    "    if not data[7] in cogs_to_seqs: \n",
    "        cogs_to_seqs[data[7]] = set([data[2]])\n",
    "    else:\n",
    "        cogs_to_seqs[data[7]].add(data[2])\n",
    "\n",
    "    i += 1\n",
    "    if i==2000000:\n",
    "        break"
   ]
  },
  {
   "cell_type": "code",
   "execution_count": 3,
   "id": "d449dd11",
   "metadata": {},
   "outputs": [],
   "source": [
    "#Storing the COG IDs from the dictionary where COG and Sequence IDs are stored as cogs_list\n",
    "\n",
    "cogs_list = list(cogs_to_seqs.keys())"
   ]
  },
  {
   "cell_type": "code",
   "execution_count": 4,
   "id": "9c19f27e",
   "metadata": {},
   "outputs": [],
   "source": [
    "#creating a set for the randomly selected COG IDs\n",
    "selected_cogs =  set()\n",
    "\n",
    "#Randomly selecting 500,000 pairs of COG IDs\n",
    "while len(selected_cogs) != 500000:\n",
    "    rand_cogs = [random.choice(cogs_list) for _ in range(2)]\n",
    "    selection = tuple(sorted([random.choice(rand_cogs)  for rand_cog in rand_cogs]))\n",
    "    if selection[0] != selection[1]:\n",
    "        selected_cogs.add(selection)"
   ]
  },
  {
   "cell_type": "code",
   "execution_count": 5,
   "id": "f57d8b3f",
   "metadata": {},
   "outputs": [],
   "source": [
    "#Using the COG ID pairs to randomly select 1 sequence ID from each COG\n",
    "#Generates tuple(COG ID-1, Sequence ID-1, COG ID-2, Sequence ID-2)\n",
    "#Stores the tuple in \"pairs\" set\n",
    "\n",
    "for i in selected_cogs:\n",
    "    seq_pairs = []\n",
    "    seq1 = random.choice(tuple(cogs_to_seqs[i[0]]))\n",
    "    seq2 = random.choice(tuple(cogs_to_seqs[i[1]]))\n",
    "    seq_pairs.append(i[0])\n",
    "    seq_pairs.append(seq1)\n",
    "    seq_pairs.append(i[1])\n",
    "    seq_pairs.append(seq2)\n",
    "    pairs.add(tuple(seq_pairs))\n",
    "    "
   ]
  },
  {
   "cell_type": "code",
   "execution_count": 6,
   "id": "8f981527",
   "metadata": {
    "scrolled": true
   },
   "outputs": [
    {
     "data": {
      "text/plain": [
       "500000"
      ]
     },
     "execution_count": 6,
     "metadata": {},
     "output_type": "execute_result"
    }
   ],
   "source": [
    "len(pairs)"
   ]
  },
  {
   "cell_type": "code",
   "execution_count": 17,
   "id": "b81ea135",
   "metadata": {},
   "outputs": [],
   "source": [
    "#list(pairs)[0:100]"
   ]
  },
  {
   "cell_type": "code",
   "execution_count": 7,
   "id": "3b5b01b0",
   "metadata": {},
   "outputs": [],
   "source": [
    "with open(\"random_cog_seq_pairs.txt\", \"w\") as f:\n",
    "    a = list(pairs)\n",
    "    for i in str(a):\n",
    "        f.write(i)\n",
    "\n"
   ]
  }
 ],
 "metadata": {
  "kernelspec": {
   "display_name": "Python 3 (ipykernel)",
   "language": "python",
   "name": "python3"
  },
  "language_info": {
   "codemirror_mode": {
    "name": "ipython",
    "version": 3
   },
   "file_extension": ".py",
   "mimetype": "text/x-python",
   "name": "python",
   "nbconvert_exporter": "python",
   "pygments_lexer": "ipython3",
   "version": "3.9.12"
  }
 },
 "nbformat": 4,
 "nbformat_minor": 5
}
